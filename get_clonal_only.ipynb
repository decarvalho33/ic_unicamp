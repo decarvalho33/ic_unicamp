{
  "cells": [
    {
      "cell_type": "markdown",
      "metadata": {
        "id": "u_Hobb94wPSv"
      },
      "source": [
        "Agora vamos fazer a mineração de um texto e extrair palavras chaves:"
      ]
    },
    {
      "cell_type": "code",
      "execution_count": 29,
      "metadata": {
        "id": "7cAQcswIWrT4",
        "colab": {
          "base_uri": "https://localhost:8080/"
        },
        "outputId": "638d480b-0a2b-43fb-dda2-e615641c60c5"
      },
      "outputs": [
        {
          "output_type": "stream",
          "name": "stdout",
          "text": [
            "['https://www.ncbi.nlm.nih.gov/biosample/30102426', 'https://www.ncbi.nlm.nih.gov/biosample/30102427', 'https://www.ncbi.nlm.nih.gov/biosample/30102428', 'https://www.ncbi.nlm.nih.gov/biosample/30102429', 'https://www.ncbi.nlm.nih.gov/biosample/30102430', 'https://www.ncbi.nlm.nih.gov/biosample/30102431', 'https://www.ncbi.nlm.nih.gov/biosample/30102432', 'https://www.ncbi.nlm.nih.gov/biosample/30102433', 'https://www.ncbi.nlm.nih.gov/biosample/30102434', 'https://www.ncbi.nlm.nih.gov/biosample/30102435', 'https://www.ncbi.nlm.nih.gov/biosample/30102436', 'https://www.ncbi.nlm.nih.gov/biosample/30102437', 'https://www.ncbi.nlm.nih.gov/biosample/30102438', 'https://www.ncbi.nlm.nih.gov/biosample/30102439', 'https://www.ncbi.nlm.nih.gov/biosample/30102440', 'https://www.ncbi.nlm.nih.gov/biosample/30102441', 'https://www.ncbi.nlm.nih.gov/biosample/30102442', 'https://www.ncbi.nlm.nih.gov/biosample/30102443', 'https://www.ncbi.nlm.nih.gov/biosample/30102444', 'https://www.ncbi.nlm.nih.gov/biosample/30102445', 'https://www.ncbi.nlm.nih.gov/biosample/30102446', 'https://www.ncbi.nlm.nih.gov/biosample/30102447', 'https://www.ncbi.nlm.nih.gov/biosample/30102448', 'https://www.ncbi.nlm.nih.gov/biosample/30102449', 'https://www.ncbi.nlm.nih.gov/biosample/30102450', 'https://www.ncbi.nlm.nih.gov/biosample/30102451', 'https://www.ncbi.nlm.nih.gov/biosample/30102452', 'https://www.ncbi.nlm.nih.gov/biosample/30102453', 'https://www.ncbi.nlm.nih.gov/biosample/30102454', 'https://www.ncbi.nlm.nih.gov/biosample/30102455', 'https://www.ncbi.nlm.nih.gov/biosample/30102456', 'https://www.ncbi.nlm.nih.gov/biosample/30102457', 'https://www.ncbi.nlm.nih.gov/biosample/30102458', 'https://www.ncbi.nlm.nih.gov/biosample/30102459', 'https://www.ncbi.nlm.nih.gov/biosample/30102460', 'https://www.ncbi.nlm.nih.gov/biosample/30102461', 'https://www.ncbi.nlm.nih.gov/biosample/30102462', 'https://www.ncbi.nlm.nih.gov/biosample/30102463', 'https://www.ncbi.nlm.nih.gov/biosample/30102464', 'https://www.ncbi.nlm.nih.gov/biosample/30102465', 'https://www.ncbi.nlm.nih.gov/biosample/30102466', 'https://www.ncbi.nlm.nih.gov/biosample/30102467', 'https://www.ncbi.nlm.nih.gov/biosample/30102468', 'https://www.ncbi.nlm.nih.gov/biosample/30102469', 'https://www.ncbi.nlm.nih.gov/biosample/30102470', 'https://www.ncbi.nlm.nih.gov/biosample/30102471', 'https://www.ncbi.nlm.nih.gov/biosample/30102472', 'https://www.ncbi.nlm.nih.gov/biosample/30102473', 'https://www.ncbi.nlm.nih.gov/biosample/30102474', 'https://www.ncbi.nlm.nih.gov/biosample/30102475', 'https://www.ncbi.nlm.nih.gov/biosample/30102476', 'https://www.ncbi.nlm.nih.gov/biosample/30102477', 'https://www.ncbi.nlm.nih.gov/biosample/30102478', 'https://www.ncbi.nlm.nih.gov/biosample/30102479', 'https://www.ncbi.nlm.nih.gov/biosample/30102480', 'https://www.ncbi.nlm.nih.gov/biosample/30102481', 'https://www.ncbi.nlm.nih.gov/biosample/30102482', 'https://www.ncbi.nlm.nih.gov/biosample/30102483', 'https://www.ncbi.nlm.nih.gov/biosample/30102484', 'https://www.ncbi.nlm.nih.gov/biosample/30102485', 'https://www.ncbi.nlm.nih.gov/biosample/30102486', 'https://www.ncbi.nlm.nih.gov/biosample/30102487', 'https://www.ncbi.nlm.nih.gov/biosample/30102488', 'https://www.ncbi.nlm.nih.gov/biosample/30102489', 'https://www.ncbi.nlm.nih.gov/biosample/30102490', 'https://www.ncbi.nlm.nih.gov/biosample/30102491', 'https://www.ncbi.nlm.nih.gov/biosample/30102492', 'https://www.ncbi.nlm.nih.gov/biosample/30102493', 'https://www.ncbi.nlm.nih.gov/biosample/30102494', 'https://www.ncbi.nlm.nih.gov/biosample/30102495', 'https://www.ncbi.nlm.nih.gov/biosample/30102496', 'https://www.ncbi.nlm.nih.gov/biosample/30102497', 'https://www.ncbi.nlm.nih.gov/biosample/30102498', 'https://www.ncbi.nlm.nih.gov/biosample/30102499', 'https://www.ncbi.nlm.nih.gov/biosample/30102500', 'https://www.ncbi.nlm.nih.gov/biosample/30102501', 'https://www.ncbi.nlm.nih.gov/biosample/30102502', 'https://www.ncbi.nlm.nih.gov/biosample/30102503', 'https://www.ncbi.nlm.nih.gov/biosample/30102504', 'https://www.ncbi.nlm.nih.gov/biosample/30102505', 'https://www.ncbi.nlm.nih.gov/biosample/30102506', 'https://www.ncbi.nlm.nih.gov/biosample/30102507', 'https://www.ncbi.nlm.nih.gov/biosample/30102508', 'https://www.ncbi.nlm.nih.gov/biosample/30102509', 'https://www.ncbi.nlm.nih.gov/biosample/30102510', 'https://www.ncbi.nlm.nih.gov/biosample/30102511', 'https://www.ncbi.nlm.nih.gov/biosample/30102512', 'https://www.ncbi.nlm.nih.gov/biosample/30102513', 'https://www.ncbi.nlm.nih.gov/biosample/30102514', 'https://www.ncbi.nlm.nih.gov/biosample/30102515', 'https://www.ncbi.nlm.nih.gov/biosample/30102516', 'https://www.ncbi.nlm.nih.gov/biosample/30102517', 'https://www.ncbi.nlm.nih.gov/biosample/30102518', 'https://www.ncbi.nlm.nih.gov/biosample/30102519', 'https://www.ncbi.nlm.nih.gov/biosample/30102520', 'https://www.ncbi.nlm.nih.gov/biosample/30102521', 'https://www.ncbi.nlm.nih.gov/biosample/30102522', 'https://www.ncbi.nlm.nih.gov/biosample/30102523', 'https://www.ncbi.nlm.nih.gov/biosample/30102524', 'https://www.ncbi.nlm.nih.gov/biosample/30102525', 'https://www.ncbi.nlm.nih.gov/biosample/30102526', 'https://www.ncbi.nlm.nih.gov/biosample/30102527', 'https://www.ncbi.nlm.nih.gov/biosample/30102528', 'https://www.ncbi.nlm.nih.gov/biosample/30102529', 'https://www.ncbi.nlm.nih.gov/biosample/30102530', 'https://www.ncbi.nlm.nih.gov/biosample/30102531', 'https://www.ncbi.nlm.nih.gov/biosample/30102532', 'https://www.ncbi.nlm.nih.gov/biosample/30102533', 'https://www.ncbi.nlm.nih.gov/biosample/30102534', 'https://www.ncbi.nlm.nih.gov/biosample/30102535', 'https://www.ncbi.nlm.nih.gov/biosample/30102536', 'https://www.ncbi.nlm.nih.gov/biosample/30102537', 'https://www.ncbi.nlm.nih.gov/biosample/30102538', 'https://www.ncbi.nlm.nih.gov/biosample/30102539', 'https://www.ncbi.nlm.nih.gov/biosample/30102540', 'https://www.ncbi.nlm.nih.gov/biosample/30102541', 'https://www.ncbi.nlm.nih.gov/biosample/30102542', 'https://www.ncbi.nlm.nih.gov/biosample/30102543', 'https://www.ncbi.nlm.nih.gov/biosample/30102544', 'https://www.ncbi.nlm.nih.gov/biosample/30102545', 'https://www.ncbi.nlm.nih.gov/biosample/30102546', 'https://www.ncbi.nlm.nih.gov/biosample/30102547', 'https://www.ncbi.nlm.nih.gov/biosample/30102548', 'https://www.ncbi.nlm.nih.gov/biosample/30102549', 'https://www.ncbi.nlm.nih.gov/biosample/30102550', 'https://www.ncbi.nlm.nih.gov/biosample/30102551', 'https://www.ncbi.nlm.nih.gov/biosample/30102552', 'https://www.ncbi.nlm.nih.gov/biosample/30102553', 'https://www.ncbi.nlm.nih.gov/biosample/30102554', 'https://www.ncbi.nlm.nih.gov/biosample/30102555', 'https://www.ncbi.nlm.nih.gov/biosample/30102556', 'https://www.ncbi.nlm.nih.gov/biosample/30102557', 'https://www.ncbi.nlm.nih.gov/biosample/30102558', 'https://www.ncbi.nlm.nih.gov/biosample/30102559', 'https://www.ncbi.nlm.nih.gov/biosample/30102560', 'https://www.ncbi.nlm.nih.gov/biosample/30102561', 'https://www.ncbi.nlm.nih.gov/biosample/30102562', 'https://www.ncbi.nlm.nih.gov/biosample/30102563', 'https://www.ncbi.nlm.nih.gov/biosample/30102564', 'https://www.ncbi.nlm.nih.gov/biosample/30102565', 'https://www.ncbi.nlm.nih.gov/biosample/30102566', 'https://www.ncbi.nlm.nih.gov/biosample/30102567', 'https://www.ncbi.nlm.nih.gov/biosample/30102568', 'https://www.ncbi.nlm.nih.gov/biosample/30102569', 'https://www.ncbi.nlm.nih.gov/biosample/30102570', 'https://www.ncbi.nlm.nih.gov/biosample/30102571', 'https://www.ncbi.nlm.nih.gov/biosample/30102572', 'https://www.ncbi.nlm.nih.gov/biosample/30102573', 'https://www.ncbi.nlm.nih.gov/biosample/30102574', 'https://www.ncbi.nlm.nih.gov/biosample/30102575', 'https://www.ncbi.nlm.nih.gov/biosample/30102576', 'https://www.ncbi.nlm.nih.gov/biosample/30102577', 'https://www.ncbi.nlm.nih.gov/biosample/30102578', 'https://www.ncbi.nlm.nih.gov/biosample/30102579', 'https://www.ncbi.nlm.nih.gov/biosample/30102580', 'https://www.ncbi.nlm.nih.gov/biosample/30102581', 'https://www.ncbi.nlm.nih.gov/biosample/30102582', 'https://www.ncbi.nlm.nih.gov/biosample/30102583', 'https://www.ncbi.nlm.nih.gov/biosample/30102584', 'https://www.ncbi.nlm.nih.gov/biosample/30102585', 'https://www.ncbi.nlm.nih.gov/biosample/30102586', 'https://www.ncbi.nlm.nih.gov/biosample/30102587', 'https://www.ncbi.nlm.nih.gov/biosample/30102588', 'https://www.ncbi.nlm.nih.gov/biosample/30102589', 'https://www.ncbi.nlm.nih.gov/biosample/30102590', 'https://www.ncbi.nlm.nih.gov/biosample/30102591', 'https://www.ncbi.nlm.nih.gov/biosample/30102592', 'https://www.ncbi.nlm.nih.gov/biosample/30102593', 'https://www.ncbi.nlm.nih.gov/biosample/30102594', 'https://www.ncbi.nlm.nih.gov/biosample/30102595', 'https://www.ncbi.nlm.nih.gov/biosample/30102596', 'https://www.ncbi.nlm.nih.gov/biosample/30102597', 'https://www.ncbi.nlm.nih.gov/biosample/30102598', 'https://www.ncbi.nlm.nih.gov/biosample/30102599', 'https://www.ncbi.nlm.nih.gov/biosample/30102600', 'https://www.ncbi.nlm.nih.gov/biosample/30102601', 'https://www.ncbi.nlm.nih.gov/biosample/30102602', 'https://www.ncbi.nlm.nih.gov/biosample/30102603', 'https://www.ncbi.nlm.nih.gov/biosample/30102604', 'https://www.ncbi.nlm.nih.gov/biosample/30102605', 'https://www.ncbi.nlm.nih.gov/biosample/30102606', 'https://www.ncbi.nlm.nih.gov/biosample/30102607', 'https://www.ncbi.nlm.nih.gov/biosample/30102608', 'https://www.ncbi.nlm.nih.gov/biosample/30102609', 'https://www.ncbi.nlm.nih.gov/biosample/30102610', 'https://www.ncbi.nlm.nih.gov/biosample/30102611', 'https://www.ncbi.nlm.nih.gov/biosample/30102612', 'https://www.ncbi.nlm.nih.gov/biosample/30102613', 'https://www.ncbi.nlm.nih.gov/biosample/30102614', 'https://www.ncbi.nlm.nih.gov/biosample/30102615', 'https://www.ncbi.nlm.nih.gov/biosample/30102616', 'https://www.ncbi.nlm.nih.gov/biosample/30102617', 'https://www.ncbi.nlm.nih.gov/biosample/30102618', 'https://www.ncbi.nlm.nih.gov/biosample/30102619', 'https://www.ncbi.nlm.nih.gov/biosample/30102620', 'https://www.ncbi.nlm.nih.gov/biosample/30102621', 'https://www.ncbi.nlm.nih.gov/biosample/30102622', 'https://www.ncbi.nlm.nih.gov/biosample/30102623', 'https://www.ncbi.nlm.nih.gov/biosample/30102624', 'https://www.ncbi.nlm.nih.gov/biosample/30102625', 'https://www.ncbi.nlm.nih.gov/biosample/30102626', 'https://www.ncbi.nlm.nih.gov/biosample/30102627', 'https://www.ncbi.nlm.nih.gov/biosample/30102628', 'https://www.ncbi.nlm.nih.gov/biosample/30102629', 'https://www.ncbi.nlm.nih.gov/biosample/30102630', 'https://www.ncbi.nlm.nih.gov/biosample/30102631', 'https://www.ncbi.nlm.nih.gov/biosample/30102632', 'https://www.ncbi.nlm.nih.gov/biosample/30102633', 'https://www.ncbi.nlm.nih.gov/biosample/30102634', 'https://www.ncbi.nlm.nih.gov/biosample/30102635', 'https://www.ncbi.nlm.nih.gov/biosample/30102636', 'https://www.ncbi.nlm.nih.gov/biosample/30102637', 'https://www.ncbi.nlm.nih.gov/biosample/30102638', 'https://www.ncbi.nlm.nih.gov/biosample/30102639', 'https://www.ncbi.nlm.nih.gov/biosample/30102640', 'https://www.ncbi.nlm.nih.gov/biosample/30102641', 'https://www.ncbi.nlm.nih.gov/biosample/30102642', 'https://www.ncbi.nlm.nih.gov/biosample/30102643', 'https://www.ncbi.nlm.nih.gov/biosample/30102644']\n"
          ]
        }
      ],
      "source": [
        "#urls vão de 30102426 a 30102644, são 219 bioprojects\n",
        "\n",
        "start_nURL = 30102426\n",
        "end_nURL = 30102644\n",
        "\n",
        "urls = []\n",
        "\n",
        "while (start_nURL < (end_nURL+1)):\n",
        "  urls.append('https://www.ncbi.nlm.nih.gov/biosample/'+str(start_nURL))\n",
        "  start_nURL += 1"
      ]
    },
    {
      "cell_type": "markdown",
      "metadata": {
        "id": "A0dsM3Dzy2A_"
      },
      "source": [
        "Importamos algumas bibliotecas"
      ]
    },
    {
      "cell_type": "code",
      "execution_count": 30,
      "metadata": {
        "id": "RIrOkzW0g5O8"
      },
      "outputs": [],
      "source": [
        "import numpy as np\n",
        "import requests\n",
        "\n"
      ]
    },
    {
      "cell_type": "code",
      "execution_count": 31,
      "metadata": {
        "id": "DJkiYbdCXs8q",
        "colab": {
          "base_uri": "https://localhost:8080/"
        },
        "outputId": "f1980812-f65b-42ba-ecf8-86435ecee9cf"
      },
      "outputs": [
        {
          "output_type": "stream",
          "name": "stdout",
          "text": [
            "não tem\n",
            "não tem\n",
            "não tem\n",
            "não tem\n",
            "não tem\n",
            "não tem\n",
            "não tem\n",
            "não tem\n",
            "não tem\n",
            "não tem\n",
            "não tem\n",
            "não tem\n",
            "não tem\n",
            "não tem\n",
            "não tem\n",
            "não tem\n",
            "não tem\n",
            "não tem\n",
            "tem\n",
            "tem\n",
            "tem\n",
            "tem\n",
            "tem\n",
            "tem\n",
            "tem\n",
            "tem\n",
            "não tem\n",
            "não tem\n",
            "não tem\n",
            "não tem\n",
            "não tem\n",
            "não tem\n",
            "não tem\n",
            "não tem\n",
            "não tem\n",
            "não tem\n",
            "não tem\n",
            "não tem\n",
            "não tem\n",
            "não tem\n",
            "não tem\n",
            "não tem\n",
            "não tem\n",
            "não tem\n",
            "não tem\n",
            "não tem\n",
            "não tem\n",
            "não tem\n",
            "tem\n",
            "tem\n",
            "tem\n",
            "tem\n",
            "tem\n",
            "tem\n",
            "tem\n",
            "tem\n",
            "tem\n",
            "tem\n",
            "tem\n",
            "tem\n",
            "tem\n",
            "tem\n",
            "tem\n",
            "tem\n",
            "tem\n",
            "tem\n",
            "tem\n",
            "tem\n",
            "tem\n",
            "tem\n",
            "tem\n",
            "tem\n",
            "tem\n",
            "tem\n",
            "tem\n",
            "tem\n",
            "tem\n",
            "tem\n",
            "tem\n",
            "tem\n",
            "tem\n",
            "tem\n",
            "tem\n",
            "tem\n",
            "tem\n",
            "tem\n",
            "tem\n",
            "tem\n",
            "tem\n",
            "tem\n",
            "tem\n",
            "tem\n",
            "tem\n",
            "tem\n",
            "tem\n",
            "tem\n",
            "tem\n",
            "tem\n",
            "tem\n",
            "tem\n",
            "tem\n",
            "tem\n",
            "tem\n",
            "tem\n",
            "tem\n",
            "tem\n",
            "tem\n",
            "tem\n",
            "tem\n",
            "tem\n",
            "tem\n",
            "tem\n",
            "tem\n",
            "tem\n",
            "tem\n",
            "tem\n",
            "tem\n",
            "tem\n",
            "tem\n",
            "tem\n",
            "tem\n",
            "tem\n",
            "tem\n",
            "não tem\n",
            "não tem\n",
            "não tem\n",
            "não tem\n",
            "não tem\n",
            "não tem\n",
            "não tem\n",
            "não tem\n",
            "não tem\n",
            "não tem\n",
            "não tem\n",
            "não tem\n",
            "não tem\n",
            "não tem\n",
            "não tem\n",
            "não tem\n",
            "não tem\n",
            "não tem\n",
            "não tem\n",
            "não tem\n",
            "não tem\n",
            "não tem\n",
            "não tem\n",
            "não tem\n",
            "não tem\n",
            "não tem\n",
            "não tem\n",
            "não tem\n",
            "não tem\n",
            "não tem\n",
            "tem\n",
            "tem\n",
            "tem\n",
            "tem\n",
            "tem\n",
            "tem\n",
            "tem\n",
            "tem\n",
            "tem\n",
            "tem\n",
            "tem\n",
            "tem\n",
            "tem\n",
            "tem\n",
            "tem\n",
            "tem\n",
            "tem\n",
            "tem\n",
            "tem\n",
            "tem\n",
            "tem\n",
            "tem\n",
            "tem\n",
            "tem\n",
            "tem\n",
            "tem\n",
            "tem\n",
            "tem\n",
            "tem\n",
            "tem\n",
            "tem\n",
            "tem\n",
            "tem\n",
            "tem\n",
            "tem\n",
            "tem\n",
            "tem\n",
            "tem\n",
            "tem\n",
            "tem\n",
            "tem\n",
            "tem\n",
            "tem\n",
            "tem\n",
            "tem\n",
            "tem\n",
            "tem\n",
            "tem\n",
            "tem\n",
            "tem\n",
            "tem\n",
            "tem\n",
            "tem\n",
            "tem\n",
            "tem\n",
            "tem\n",
            "tem\n",
            "tem\n",
            "tem\n",
            "tem\n",
            "tem\n",
            "tem\n",
            "tem\n",
            "tem\n",
            "tem\n",
            "tem\n"
          ]
        }
      ],
      "source": [
        "all_text = ''\n",
        "for url in urls:\n",
        "    text_in = requests.get(url).content.decode('utf-8')\n",
        "    all_text += text_in\n",
        "    if (\"clonal isolate\" in text_in):\n",
        "      print(\"tem\")\n",
        "    else:\n",
        "      print(\"não tem\")\n",
        "\n",
        "#print(text)\n",
        "\n"
      ]
    },
    {
      "cell_type": "markdown",
      "metadata": {
        "id": "KvMwme7S0wH1"
      },
      "source": [
        "Convertemos a linguagem de marcação html em um texto simples usando o objeto HTMLParser. "
      ]
    },
    {
      "cell_type": "code",
      "execution_count": 12,
      "metadata": {
        "id": "LUQaJ953X8fm",
        "colab": {
          "base_uri": "https://localhost:8080/"
        },
        "outputId": "2141e94b-4ed8-47c6-cc63-f5b2b2fdede5"
      },
      "outputs": [
        {
          "output_type": "stream",
          "name": "stdout",
          "text": [
            "não tem\n"
          ]
        }
      ],
      "source": [
        "from html.parser import HTMLParser\n",
        "\n",
        "class MyHTMLParser(HTMLParser):\n",
        "    script = False\n",
        "    res = \"\"\n",
        "    def handle_starttag(self, tag, attrs):\n",
        "        if tag.lower() in [\"script\",\"style\"]:\n",
        "            self.script = True\n",
        "    def handle_endtag(self, tag):\n",
        "        if tag.lower() in [\"script\",\"style\"]:\n",
        "            self.script = False\n",
        "    def handle_data(self, data):\n",
        "        if str.strip(data)==\"\" or self.script:\n",
        "            return\n",
        "        self.res += ' '+data.replace('[ edit ]','')\n",
        "\n",
        "parser = MyHTMLParser()\n",
        "parser.feed(text)\n",
        "text = parser.res\n",
        "\n",
        "# start_index = text.index(\"Abstract\")\n",
        "# end_index = text.index(\"References\")\n",
        "# text = text[(start_index+8):end_index]\n",
        "\n",
        "#print(text)             \n",
        "\n",
        "if (\"clonal isolate\" in text):\n",
        "  print(\"tem\")\n",
        "else:\n",
        "  print(\"não tem\")"
      ]
    }
  ],
  "metadata": {
    "colab": {
      "provenance": []
    },
    "kernelspec": {
      "display_name": "Python 3",
      "name": "python3"
    },
    "language_info": {
      "codemirror_mode": {
        "name": "ipython",
        "version": 3
      },
      "file_extension": ".py",
      "mimetype": "text/x-python",
      "name": "python",
      "nbconvert_exporter": "python",
      "pygments_lexer": "ipython3",
      "version": "3.10.6"
    }
  },
  "nbformat": 4,
  "nbformat_minor": 0
}